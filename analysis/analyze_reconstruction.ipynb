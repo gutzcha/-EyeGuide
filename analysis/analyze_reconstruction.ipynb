{
 "cells": [
  {
   "cell_type": "code",
   "execution_count": 209,
   "metadata": {},
   "outputs": [],
   "source": [
    "import pickle\n",
    "import cv2\n",
    "from utils.visualize_reconstruction import visualize_pose_sequence, AnimatedScatter\n",
    "import numpy as np\n",
    "from data.dataset import get_dataloader\n",
    "from utils.constants import TRAINED_LANDMARKS\n",
    "from models.mae_model import mae_vit_tdcnn\n",
    "import os.path as osp\n",
    "import matplotlib.pyplot as plt\n",
    "%matplotlib notebook"
   ]
  },
  {
   "cell_type": "code",
   "execution_count": 210,
   "metadata": {
    "pycharm": {
     "name": "#%%\n"
    }
   },
   "outputs": [
    {
     "name": "stdout",
     "output_type": "stream",
     "text": [
      "Loading from cache\n"
     ]
    }
   ],
   "source": [
    "# load dataset\n",
    "n_landmarks = len(TRAINED_LANDMARKS)\n",
    "train_ds, train_dl = get_dataloader(data_path=None, n_landmarks=n_landmarks, sample_size_limit=64, batch_size=4, n_frames=128)\n",
    "\n",
    "dl_iter = iter(train_dl)\n",
    "pose_sequence = next(dl_iter)\n"
   ]
  },
  {
   "cell_type": "code",
   "execution_count": 211,
   "metadata": {},
   "outputs": [
    {
     "data": {
      "text/plain": "832"
     },
     "execution_count": 211,
     "metadata": {},
     "output_type": "execute_result"
    }
   ],
   "source": [
    "len(train_ds)"
   ]
  },
  {
   "cell_type": "code",
   "execution_count": 212,
   "metadata": {},
   "outputs": [],
   "source": [
    "pose_sequence = next(dl_iter)"
   ]
  },
  {
   "cell_type": "code",
   "execution_count": 213,
   "metadata": {
    "pycharm": {
     "name": "#%%\n"
    }
   },
   "outputs": [],
   "source": [
    "# pose_sequence = pose_sequence[:,:,TRAINED_LANDMARKS,:] # get trained landmarks\n",
    "# visualize_pose_sequence(pose_sequence, inflate_ratio=1, center=True, loops=0)"
   ]
  },
  {
   "cell_type": "code",
   "execution_count": 214,
   "metadata": {
    "pycharm": {
     "name": "#%%\n"
    }
   },
   "outputs": [],
   "source": [
    "# load model\n",
    "model = mae_vit_tdcnn()\n",
    "model = model.double()\n",
    "\n",
    "# checkpoint path\n",
    "\n",
    "\n",
    "\n",
    "ckpt_folder = osp.join('..','project','checkpoints','')\n",
    "ckpt_name = 'epoch=13-step=1288.ckpt'\n",
    "ckpt_path = osp.join(ckpt_folder,ckpt_name)\n",
    "# model.load_from_checkpoint(ckpt_path)\n"
   ]
  },
  {
   "cell_type": "code",
   "execution_count": 215,
   "metadata": {},
   "outputs": [],
   "source": [
    "import torch\n",
    "m = torch.load(ckpt_path)"
   ]
  },
  {
   "cell_type": "code",
   "execution_count": 216,
   "metadata": {},
   "outputs": [
    {
     "ename": "RuntimeError",
     "evalue": "Error(s) in loading state_dict for MaskedAutoencoderTDCNN:\n\tMissing key(s) in state_dict: \"blocks.16.norm1.weight\", \"blocks.16.norm1.bias\", \"blocks.16.attn.qkv.weight\", \"blocks.16.attn.qkv.bias\", \"blocks.16.attn.proj.weight\", \"blocks.16.attn.proj.bias\", \"blocks.16.norm2.weight\", \"blocks.16.norm2.bias\", \"blocks.16.mlp.fc1.weight\", \"blocks.16.mlp.fc1.bias\", \"blocks.16.mlp.fc2.weight\", \"blocks.16.mlp.fc2.bias\", \"blocks.17.norm1.weight\", \"blocks.17.norm1.bias\", \"blocks.17.attn.qkv.weight\", \"blocks.17.attn.qkv.bias\", \"blocks.17.attn.proj.weight\", \"blocks.17.attn.proj.bias\", \"blocks.17.norm2.weight\", \"blocks.17.norm2.bias\", \"blocks.17.mlp.fc1.weight\", \"blocks.17.mlp.fc1.bias\", \"blocks.17.mlp.fc2.weight\", \"blocks.17.mlp.fc2.bias\", \"blocks.18.norm1.weight\", \"blocks.18.norm1.bias\", \"blocks.18.attn.qkv.weight\", \"blocks.18.attn.qkv.bias\", \"blocks.18.attn.proj.weight\", \"blocks.18.attn.proj.bias\", \"blocks.18.norm2.weight\", \"blocks.18.norm2.bias\", \"blocks.18.mlp.fc1.weight\", \"blocks.18.mlp.fc1.bias\", \"blocks.18.mlp.fc2.weight\", \"blocks.18.mlp.fc2.bias\", \"blocks.19.norm1.weight\", \"blocks.19.norm1.bias\", \"blocks.19.attn.qkv.weight\", \"blocks.19.attn.qkv.bias\", \"blocks.19.attn.proj.weight\", \"blocks.19.attn.proj.bias\", \"blocks.19.norm2.weight\", \"blocks.19.norm2.bias\", \"blocks.19.mlp.fc1.weight\", \"blocks.19.mlp.fc1.bias\", \"blocks.19.mlp.fc2.weight\", \"blocks.19.mlp.fc2.bias\", \"blocks.20.norm1.weight\", \"blocks.20.norm1.bias\", \"blocks.20.attn.qkv.weight\", \"blocks.20.attn.qkv.bias\", \"blocks.20.attn.proj.weight\", \"blocks.20.attn.proj.bias\", \"blocks.20.norm2.weight\", \"blocks.20.norm2.bias\", \"blocks.20.mlp.fc1.weight\", \"blocks.20.mlp.fc1.bias\", \"blocks.20.mlp.fc2.weight\", \"blocks.20.mlp.fc2.bias\", \"blocks.21.norm1.weight\", \"blocks.21.norm1.bias\", \"blocks.21.attn.qkv.weight\", \"blocks.21.attn.qkv.bias\", \"blocks.21.attn.proj.weight\", \"blocks.21.attn.proj.bias\", \"blocks.21.norm2.weight\", \"blocks.21.norm2.bias\", \"blocks.21.mlp.fc1.weight\", \"blocks.21.mlp.fc1.bias\", \"blocks.21.mlp.fc2.weight\", \"blocks.21.mlp.fc2.bias\", \"blocks.22.norm1.weight\", \"blocks.22.norm1.bias\", \"blocks.22.attn.qkv.weight\", \"blocks.22.attn.qkv.bias\", \"blocks.22.attn.proj.weight\", \"blocks.22.attn.proj.bias\", \"blocks.22.norm2.weight\", \"blocks.22.norm2.bias\", \"blocks.22.mlp.fc1.weight\", \"blocks.22.mlp.fc1.bias\", \"blocks.22.mlp.fc2.weight\", \"blocks.22.mlp.fc2.bias\", \"blocks.23.norm1.weight\", \"blocks.23.norm1.bias\", \"blocks.23.attn.qkv.weight\", \"blocks.23.attn.qkv.bias\", \"blocks.23.attn.proj.weight\", \"blocks.23.attn.proj.bias\", \"blocks.23.norm2.weight\", \"blocks.23.norm2.bias\", \"blocks.23.mlp.fc1.weight\", \"blocks.23.mlp.fc1.bias\", \"blocks.23.mlp.fc2.weight\", \"blocks.23.mlp.fc2.bias\", \"blocks.24.norm1.weight\", \"blocks.24.norm1.bias\", \"blocks.24.attn.qkv.weight\", \"blocks.24.attn.qkv.bias\", \"blocks.24.attn.proj.weight\", \"blocks.24.attn.proj.bias\", \"blocks.24.norm2.weight\", \"blocks.24.norm2.bias\", \"blocks.24.mlp.fc1.weight\", \"blocks.24.mlp.fc1.bias\", \"blocks.24.mlp.fc2.weight\", \"blocks.24.mlp.fc2.bias\", \"blocks.25.norm1.weight\", \"blocks.25.norm1.bias\", \"blocks.25.attn.qkv.weight\", \"blocks.25.attn.qkv.bias\", \"blocks.25.attn.proj.weight\", \"blocks.25.attn.proj.bias\", \"blocks.25.norm2.weight\", \"blocks.25.norm2.bias\", \"blocks.25.mlp.fc1.weight\", \"blocks.25.mlp.fc1.bias\", \"blocks.25.mlp.fc2.weight\", \"blocks.25.mlp.fc2.bias\", \"blocks.26.norm1.weight\", \"blocks.26.norm1.bias\", \"blocks.26.attn.qkv.weight\", \"blocks.26.attn.qkv.bias\", \"blocks.26.attn.proj.weight\", \"blocks.26.attn.proj.bias\", \"blocks.26.norm2.weight\", \"blocks.26.norm2.bias\", \"blocks.26.mlp.fc1.weight\", \"blocks.26.mlp.fc1.bias\", \"blocks.26.mlp.fc2.weight\", \"blocks.26.mlp.fc2.bias\", \"blocks.27.norm1.weight\", \"blocks.27.norm1.bias\", \"blocks.27.attn.qkv.weight\", \"blocks.27.attn.qkv.bias\", \"blocks.27.attn.proj.weight\", \"blocks.27.attn.proj.bias\", \"blocks.27.norm2.weight\", \"blocks.27.norm2.bias\", \"blocks.27.mlp.fc1.weight\", \"blocks.27.mlp.fc1.bias\", \"blocks.27.mlp.fc2.weight\", \"blocks.27.mlp.fc2.bias\", \"blocks.28.norm1.weight\", \"blocks.28.norm1.bias\", \"blocks.28.attn.qkv.weight\", \"blocks.28.attn.qkv.bias\", \"blocks.28.attn.proj.weight\", \"blocks.28.attn.proj.bias\", \"blocks.28.norm2.weight\", \"blocks.28.norm2.bias\", \"blocks.28.mlp.fc1.weight\", \"blocks.28.mlp.fc1.bias\", \"blocks.28.mlp.fc2.weight\", \"blocks.28.mlp.fc2.bias\", \"blocks.29.norm1.weight\", \"blocks.29.norm1.bias\", \"blocks.29.attn.qkv.weight\", \"blocks.29.attn.qkv.bias\", \"blocks.29.attn.proj.weight\", \"blocks.29.attn.proj.bias\", \"blocks.29.norm2.weight\", \"blocks.29.norm2.bias\", \"blocks.29.mlp.fc1.weight\", \"blocks.29.mlp.fc1.bias\", \"blocks.29.mlp.fc2.weight\", \"blocks.29.mlp.fc2.bias\", \"blocks.30.norm1.weight\", \"blocks.30.norm1.bias\", \"blocks.30.attn.qkv.weight\", \"blocks.30.attn.qkv.bias\", \"blocks.30.attn.proj.weight\", \"blocks.30.attn.proj.bias\", \"blocks.30.norm2.weight\", \"blocks.30.norm2.bias\", \"blocks.30.mlp.fc1.weight\", \"blocks.30.mlp.fc1.bias\", \"blocks.30.mlp.fc2.weight\", \"blocks.30.mlp.fc2.bias\", \"blocks.31.norm1.weight\", \"blocks.31.norm1.bias\", \"blocks.31.attn.qkv.weight\", \"blocks.31.attn.qkv.bias\", \"blocks.31.attn.proj.weight\", \"blocks.31.attn.proj.bias\", \"blocks.31.norm2.weight\", \"blocks.31.norm2.bias\", \"blocks.31.mlp.fc1.weight\", \"blocks.31.mlp.fc1.bias\", \"blocks.31.mlp.fc2.weight\", \"blocks.31.mlp.fc2.bias\", \"decoder_blocks.16.norm1.weight\", \"decoder_blocks.16.norm1.bias\", \"decoder_blocks.16.attn.qkv.weight\", \"decoder_blocks.16.attn.qkv.bias\", \"decoder_blocks.16.attn.proj.weight\", \"decoder_blocks.16.attn.proj.bias\", \"decoder_blocks.16.norm2.weight\", \"decoder_blocks.16.norm2.bias\", \"decoder_blocks.16.mlp.fc1.weight\", \"decoder_blocks.16.mlp.fc1.bias\", \"decoder_blocks.16.mlp.fc2.weight\", \"decoder_blocks.16.mlp.fc2.bias\", \"decoder_blocks.17.norm1.weight\", \"decoder_blocks.17.norm1.bias\", \"decoder_blocks.17.attn.qkv.weight\", \"decoder_blocks.17.attn.qkv.bias\", \"decoder_blocks.17.attn.proj.weight\", \"decoder_blocks.17.attn.proj.bias\", \"decoder_blocks.17.norm2.weight\", \"decoder_blocks.17.norm2.bias\", \"decoder_blocks.17.mlp.fc1.weight\", \"decoder_blocks.17.mlp.fc1.bias\", \"decoder_blocks.17.mlp.fc2.weight\", \"decoder_blocks.17.mlp.fc2.bias\", \"decoder_blocks.18.norm1.weight\", \"decoder_blocks.18.norm1.bias\", \"decoder_blocks.18.attn.qkv.weight\", \"decoder_blocks.18.attn.qkv.bias\", \"decoder_blocks.18.attn.proj.weight\", \"decoder_blocks.18.attn.proj.bias\", \"decoder_blocks.18.norm2.weight\", \"decoder_blocks.18.norm2.bias\", \"decoder_blocks.18.mlp.fc1.weight\", \"decoder_blocks.18.mlp.fc1.bias\", \"decoder_blocks.18.mlp.fc2.weight\", \"decoder_blocks.18.mlp.fc2.bias\", \"decoder_blocks.19.norm1.weight\", \"decoder_blocks.19.norm1.bias\", \"decoder_blocks.19.attn.qkv.weight\", \"decoder_blocks.19.attn.qkv.bias\", \"decoder_blocks.19.attn.proj.weight\", \"decoder_blocks.19.attn.proj.bias\", \"decoder_blocks.19.norm2.weight\", \"decoder_blocks.19.norm2.bias\", \"decoder_blocks.19.mlp.fc1.weight\", \"decoder_blocks.19.mlp.fc1.bias\", \"decoder_blocks.19.mlp.fc2.weight\", \"decoder_blocks.19.mlp.fc2.bias\", \"decoder_blocks.20.norm1.weight\", \"decoder_blocks.20.norm1.bias\", \"decoder_blocks.20.attn.qkv.weight\", \"decoder_blocks.20.attn.qkv.bias\", \"decoder_blocks.20.attn.proj.weight\", \"decoder_blocks.20.attn.proj.bias\", \"decoder_blocks.20.norm2.weight\", \"decoder_blocks.20.norm2.bias\", \"decoder_blocks.20.mlp.fc1.weight\", \"decoder_blocks.20.mlp.fc1.bias\", \"decoder_blocks.20.mlp.fc2.weight\", \"decoder_blocks.20.mlp.fc2.bias\", \"decoder_blocks.21.norm1.weight\", \"decoder_blocks.21.norm1.bias\", \"decoder_blocks.21.attn.qkv.weight\", \"decoder_blocks.21.attn.qkv.bias\", \"decoder_blocks.21.attn.proj.weight\", \"decoder_blocks.21.attn.proj.bias\", \"decoder_blocks.21.norm2.weight\", \"decoder_blocks.21.norm2.bias\", \"decoder_blocks.21.mlp.fc1.weight\", \"decoder_blocks.21.mlp.fc1.bias\", \"decoder_blocks.21.mlp.fc2.weight\", \"decoder_blocks.21.mlp.fc2.bias\", \"decoder_blocks.22.norm1.weight\", \"decoder_blocks.22.norm1.bias\", \"decoder_blocks.22.attn.qkv.weight\", \"decoder_blocks.22.attn.qkv.bias\", \"decoder_blocks.22.attn.proj.weight\", \"decoder_blocks.22.attn.proj.bias\", \"decoder_blocks.22.norm2.weight\", \"decoder_blocks.22.norm2.bias\", \"decoder_blocks.22.mlp.fc1.weight\", \"decoder_blocks.22.mlp.fc1.bias\", \"decoder_blocks.22.mlp.fc2.weight\", \"decoder_blocks.22.mlp.fc2.bias\", \"decoder_blocks.23.norm1.weight\", \"decoder_blocks.23.norm1.bias\", \"decoder_blocks.23.attn.qkv.weight\", \"decoder_blocks.23.attn.qkv.bias\", \"decoder_blocks.23.attn.proj.weight\", \"decoder_blocks.23.attn.proj.bias\", \"decoder_blocks.23.norm2.weight\", \"decoder_blocks.23.norm2.bias\", \"decoder_blocks.23.mlp.fc1.weight\", \"decoder_blocks.23.mlp.fc1.bias\", \"decoder_blocks.23.mlp.fc2.weight\", \"decoder_blocks.23.mlp.fc2.bias\", \"decoder_blocks.24.norm1.weight\", \"decoder_blocks.24.norm1.bias\", \"decoder_blocks.24.attn.qkv.weight\", \"decoder_blocks.24.attn.qkv.bias\", \"decoder_blocks.24.attn.proj.weight\", \"decoder_blocks.24.attn.proj.bias\", \"decoder_blocks.24.norm2.weight\", \"decoder_blocks.24.norm2.bias\", \"decoder_blocks.24.mlp.fc1.weight\", \"decoder_blocks.24.mlp.fc1.bias\", \"decoder_blocks.24.mlp.fc2.weight\", \"decoder_blocks.24.mlp.fc2.bias\", \"decoder_blocks.25.norm1.weight\", \"decoder_blocks.25.norm1.bias\", \"decoder_blocks.25.attn.qkv.weight\", \"decoder_blocks.25.attn.qkv.bias\", \"decoder_blocks.25.attn.proj.weight\", \"decoder_blocks.25.attn.proj.bias\", \"decoder_blocks.25.norm2.weight\", \"decoder_blocks.25.norm2.bias\", \"decoder_blocks.25.mlp.fc1.weight\", \"decoder_blocks.25.mlp.fc1.bias\", \"decoder_blocks.25.mlp.fc2.weight\", \"decoder_blocks.25.mlp.fc2.bias\", \"decoder_blocks.26.norm1.weight\", \"decoder_blocks.26.norm1.bias\", \"decoder_blocks.26.attn.qkv.weight\", \"decoder_blocks.26.attn.qkv.bias\", \"decoder_blocks.26.attn.proj.weight\", \"decoder_blocks.26.attn.proj.bias\", \"decoder_blocks.26.norm2.weight\", \"decoder_blocks.26.norm2.bias\", \"decoder_blocks.26.mlp.fc1.weight\", \"decoder_blocks.26.mlp.fc1.bias\", \"decoder_blocks.26.mlp.fc2.weight\", \"decoder_blocks.26.mlp.fc2.bias\", \"decoder_blocks.27.norm1.weight\", \"decoder_blocks.27.norm1.bias\", \"decoder_blocks.27.attn.qkv.weight\", \"decoder_blocks.27.attn.qkv.bias\", \"decoder_blocks.27.attn.proj.weight\", \"decoder_blocks.27.attn.proj.bias\", \"decoder_blocks.27.norm2.weight\", \"decoder_blocks.27.norm2.bias\", \"decoder_blocks.27.mlp.fc1.weight\", \"decoder_blocks.27.mlp.fc1.bias\", \"decoder_blocks.27.mlp.fc2.weight\", \"decoder_blocks.27.mlp.fc2.bias\", \"decoder_blocks.28.norm1.weight\", \"decoder_blocks.28.norm1.bias\", \"decoder_blocks.28.attn.qkv.weight\", \"decoder_blocks.28.attn.qkv.bias\", \"decoder_blocks.28.attn.proj.weight\", \"decoder_blocks.28.attn.proj.bias\", \"decoder_blocks.28.norm2.weight\", \"decoder_blocks.28.norm2.bias\", \"decoder_blocks.28.mlp.fc1.weight\", \"decoder_blocks.28.mlp.fc1.bias\", \"decoder_blocks.28.mlp.fc2.weight\", \"decoder_blocks.28.mlp.fc2.bias\", \"decoder_blocks.29.norm1.weight\", \"decoder_blocks.29.norm1.bias\", \"decoder_blocks.29.attn.qkv.weight\", \"decoder_blocks.29.attn.qkv.bias\", \"decoder_blocks.29.attn.proj.weight\", \"decoder_blocks.29.attn.proj.bias\", \"decoder_blocks.29.norm2.weight\", \"decoder_blocks.29.norm2.bias\", \"decoder_blocks.29.mlp.fc1.weight\", \"decoder_blocks.29.mlp.fc1.bias\", \"decoder_blocks.29.mlp.fc2.weight\", \"decoder_blocks.29.mlp.fc2.bias\", \"decoder_blocks.30.norm1.weight\", \"decoder_blocks.30.norm1.bias\", \"decoder_blocks.30.attn.qkv.weight\", \"decoder_blocks.30.attn.qkv.bias\", \"decoder_blocks.30.attn.proj.weight\", \"decoder_blocks.30.attn.proj.bias\", \"decoder_blocks.30.norm2.weight\", \"decoder_blocks.30.norm2.bias\", \"decoder_blocks.30.mlp.fc1.weight\", \"decoder_blocks.30.mlp.fc1.bias\", \"decoder_blocks.30.mlp.fc2.weight\", \"decoder_blocks.30.mlp.fc2.bias\", \"decoder_blocks.31.norm1.weight\", \"decoder_blocks.31.norm1.bias\", \"decoder_blocks.31.attn.qkv.weight\", \"decoder_blocks.31.attn.qkv.bias\", \"decoder_blocks.31.attn.proj.weight\", \"decoder_blocks.31.attn.proj.bias\", \"decoder_blocks.31.norm2.weight\", \"decoder_blocks.31.norm2.bias\", \"decoder_blocks.31.mlp.fc1.weight\", \"decoder_blocks.31.mlp.fc1.bias\", \"decoder_blocks.31.mlp.fc2.weight\", \"decoder_blocks.31.mlp.fc2.bias\". \n\tsize mismatch for patch_embed.tdcnn_model.expand_bn.weight: copying a param with shape torch.Size([128]) from checkpoint, the shape in current model is torch.Size([256]).\n\tsize mismatch for patch_embed.tdcnn_model.expand_bn.bias: copying a param with shape torch.Size([128]) from checkpoint, the shape in current model is torch.Size([256]).\n\tsize mismatch for patch_embed.tdcnn_model.expand_bn.running_mean: copying a param with shape torch.Size([128]) from checkpoint, the shape in current model is torch.Size([256]).\n\tsize mismatch for patch_embed.tdcnn_model.expand_bn.running_var: copying a param with shape torch.Size([128]) from checkpoint, the shape in current model is torch.Size([256]).\n\tsize mismatch for patch_embed.tdcnn_model.shrink.weight: copying a param with shape torch.Size([17920, 128, 1]) from checkpoint, the shape in current model is torch.Size([17920, 256, 1]).\n\tsize mismatch for patch_embed.tdcnn_model.expand_conv.weight: copying a param with shape torch.Size([128, 280, 3]) from checkpoint, the shape in current model is torch.Size([256, 280, 3]).\n\tsize mismatch for patch_embed.tdcnn_model.layers_conv.0.weight: copying a param with shape torch.Size([128, 128, 3]) from checkpoint, the shape in current model is torch.Size([256, 256, 3]).\n\tsize mismatch for patch_embed.tdcnn_model.layers_conv.1.weight: copying a param with shape torch.Size([128, 128, 1]) from checkpoint, the shape in current model is torch.Size([256, 256, 1]).\n\tsize mismatch for patch_embed.tdcnn_model.layers_conv.2.weight: copying a param with shape torch.Size([128, 128, 3]) from checkpoint, the shape in current model is torch.Size([256, 256, 3]).\n\tsize mismatch for patch_embed.tdcnn_model.layers_conv.3.weight: copying a param with shape torch.Size([128, 128, 1]) from checkpoint, the shape in current model is torch.Size([256, 256, 1]).\n\tsize mismatch for patch_embed.tdcnn_model.layers_bn.0.weight: copying a param with shape torch.Size([128]) from checkpoint, the shape in current model is torch.Size([256]).\n\tsize mismatch for patch_embed.tdcnn_model.layers_bn.0.bias: copying a param with shape torch.Size([128]) from checkpoint, the shape in current model is torch.Size([256]).\n\tsize mismatch for patch_embed.tdcnn_model.layers_bn.0.running_mean: copying a param with shape torch.Size([128]) from checkpoint, the shape in current model is torch.Size([256]).\n\tsize mismatch for patch_embed.tdcnn_model.layers_bn.0.running_var: copying a param with shape torch.Size([128]) from checkpoint, the shape in current model is torch.Size([256]).\n\tsize mismatch for patch_embed.tdcnn_model.layers_bn.1.weight: copying a param with shape torch.Size([128]) from checkpoint, the shape in current model is torch.Size([256]).\n\tsize mismatch for patch_embed.tdcnn_model.layers_bn.1.bias: copying a param with shape torch.Size([128]) from checkpoint, the shape in current model is torch.Size([256]).\n\tsize mismatch for patch_embed.tdcnn_model.layers_bn.1.running_mean: copying a param with shape torch.Size([128]) from checkpoint, the shape in current model is torch.Size([256]).\n\tsize mismatch for patch_embed.tdcnn_model.layers_bn.1.running_var: copying a param with shape torch.Size([128]) from checkpoint, the shape in current model is torch.Size([256]).\n\tsize mismatch for patch_embed.tdcnn_model.layers_bn.2.weight: copying a param with shape torch.Size([128]) from checkpoint, the shape in current model is torch.Size([256]).\n\tsize mismatch for patch_embed.tdcnn_model.layers_bn.2.bias: copying a param with shape torch.Size([128]) from checkpoint, the shape in current model is torch.Size([256]).\n\tsize mismatch for patch_embed.tdcnn_model.layers_bn.2.running_mean: copying a param with shape torch.Size([128]) from checkpoint, the shape in current model is torch.Size([256]).\n\tsize mismatch for patch_embed.tdcnn_model.layers_bn.2.running_var: copying a param with shape torch.Size([128]) from checkpoint, the shape in current model is torch.Size([256]).\n\tsize mismatch for patch_embed.tdcnn_model.layers_bn.3.weight: copying a param with shape torch.Size([128]) from checkpoint, the shape in current model is torch.Size([256]).\n\tsize mismatch for patch_embed.tdcnn_model.layers_bn.3.bias: copying a param with shape torch.Size([128]) from checkpoint, the shape in current model is torch.Size([256]).\n\tsize mismatch for patch_embed.tdcnn_model.layers_bn.3.running_mean: copying a param with shape torch.Size([128]) from checkpoint, the shape in current model is torch.Size([256]).\n\tsize mismatch for patch_embed.tdcnn_model.layers_bn.3.running_var: copying a param with shape torch.Size([128]) from checkpoint, the shape in current model is torch.Size([256]).",
     "output_type": "error",
     "traceback": [
      "\u001B[1;31m---------------------------------------------------------------------------\u001B[0m",
      "\u001B[1;31mRuntimeError\u001B[0m                              Traceback (most recent call last)",
      "Cell \u001B[1;32mIn[216], line 1\u001B[0m\n\u001B[1;32m----> 1\u001B[0m \u001B[43mmodel\u001B[49m\u001B[38;5;241;43m.\u001B[39;49m\u001B[43mload_state_dict\u001B[49m\u001B[43m(\u001B[49m\u001B[43mm\u001B[49m\u001B[43m[\u001B[49m\u001B[38;5;124;43m'\u001B[39;49m\u001B[38;5;124;43mstate_dict\u001B[39;49m\u001B[38;5;124;43m'\u001B[39;49m\u001B[43m]\u001B[49m\u001B[43m)\u001B[49m\n\u001B[0;32m      2\u001B[0m \u001B[38;5;66;03m# model.eval()\u001B[39;00m\n",
      "File \u001B[1;32mc:\\users\\user\\eyeguide\\venv\\lib\\site-packages\\torch\\nn\\modules\\module.py:1671\u001B[0m, in \u001B[0;36mModule.load_state_dict\u001B[1;34m(self, state_dict, strict)\u001B[0m\n\u001B[0;32m   1666\u001B[0m         error_msgs\u001B[38;5;241m.\u001B[39minsert(\n\u001B[0;32m   1667\u001B[0m             \u001B[38;5;241m0\u001B[39m, \u001B[38;5;124m'\u001B[39m\u001B[38;5;124mMissing key(s) in state_dict: \u001B[39m\u001B[38;5;132;01m{}\u001B[39;00m\u001B[38;5;124m. \u001B[39m\u001B[38;5;124m'\u001B[39m\u001B[38;5;241m.\u001B[39mformat(\n\u001B[0;32m   1668\u001B[0m                 \u001B[38;5;124m'\u001B[39m\u001B[38;5;124m, \u001B[39m\u001B[38;5;124m'\u001B[39m\u001B[38;5;241m.\u001B[39mjoin(\u001B[38;5;124m'\u001B[39m\u001B[38;5;124m\"\u001B[39m\u001B[38;5;132;01m{}\u001B[39;00m\u001B[38;5;124m\"\u001B[39m\u001B[38;5;124m'\u001B[39m\u001B[38;5;241m.\u001B[39mformat(k) \u001B[38;5;28;01mfor\u001B[39;00m k \u001B[38;5;129;01min\u001B[39;00m missing_keys)))\n\u001B[0;32m   1670\u001B[0m \u001B[38;5;28;01mif\u001B[39;00m \u001B[38;5;28mlen\u001B[39m(error_msgs) \u001B[38;5;241m>\u001B[39m \u001B[38;5;241m0\u001B[39m:\n\u001B[1;32m-> 1671\u001B[0m     \u001B[38;5;28;01mraise\u001B[39;00m \u001B[38;5;167;01mRuntimeError\u001B[39;00m(\u001B[38;5;124m'\u001B[39m\u001B[38;5;124mError(s) in loading state_dict for \u001B[39m\u001B[38;5;132;01m{}\u001B[39;00m\u001B[38;5;124m:\u001B[39m\u001B[38;5;130;01m\\n\u001B[39;00m\u001B[38;5;130;01m\\t\u001B[39;00m\u001B[38;5;132;01m{}\u001B[39;00m\u001B[38;5;124m'\u001B[39m\u001B[38;5;241m.\u001B[39mformat(\n\u001B[0;32m   1672\u001B[0m                        \u001B[38;5;28mself\u001B[39m\u001B[38;5;241m.\u001B[39m\u001B[38;5;18m__class__\u001B[39m\u001B[38;5;241m.\u001B[39m\u001B[38;5;18m__name__\u001B[39m, \u001B[38;5;124m\"\u001B[39m\u001B[38;5;130;01m\\n\u001B[39;00m\u001B[38;5;130;01m\\t\u001B[39;00m\u001B[38;5;124m\"\u001B[39m\u001B[38;5;241m.\u001B[39mjoin(error_msgs)))\n\u001B[0;32m   1673\u001B[0m \u001B[38;5;28;01mreturn\u001B[39;00m _IncompatibleKeys(missing_keys, unexpected_keys)\n",
      "\u001B[1;31mRuntimeError\u001B[0m: Error(s) in loading state_dict for MaskedAutoencoderTDCNN:\n\tMissing key(s) in state_dict: \"blocks.16.norm1.weight\", \"blocks.16.norm1.bias\", \"blocks.16.attn.qkv.weight\", \"blocks.16.attn.qkv.bias\", \"blocks.16.attn.proj.weight\", \"blocks.16.attn.proj.bias\", \"blocks.16.norm2.weight\", \"blocks.16.norm2.bias\", \"blocks.16.mlp.fc1.weight\", \"blocks.16.mlp.fc1.bias\", \"blocks.16.mlp.fc2.weight\", \"blocks.16.mlp.fc2.bias\", \"blocks.17.norm1.weight\", \"blocks.17.norm1.bias\", \"blocks.17.attn.qkv.weight\", \"blocks.17.attn.qkv.bias\", \"blocks.17.attn.proj.weight\", \"blocks.17.attn.proj.bias\", \"blocks.17.norm2.weight\", \"blocks.17.norm2.bias\", \"blocks.17.mlp.fc1.weight\", \"blocks.17.mlp.fc1.bias\", \"blocks.17.mlp.fc2.weight\", \"blocks.17.mlp.fc2.bias\", \"blocks.18.norm1.weight\", \"blocks.18.norm1.bias\", \"blocks.18.attn.qkv.weight\", \"blocks.18.attn.qkv.bias\", \"blocks.18.attn.proj.weight\", \"blocks.18.attn.proj.bias\", \"blocks.18.norm2.weight\", \"blocks.18.norm2.bias\", \"blocks.18.mlp.fc1.weight\", \"blocks.18.mlp.fc1.bias\", \"blocks.18.mlp.fc2.weight\", \"blocks.18.mlp.fc2.bias\", \"blocks.19.norm1.weight\", \"blocks.19.norm1.bias\", \"blocks.19.attn.qkv.weight\", \"blocks.19.attn.qkv.bias\", \"blocks.19.attn.proj.weight\", \"blocks.19.attn.proj.bias\", \"blocks.19.norm2.weight\", \"blocks.19.norm2.bias\", \"blocks.19.mlp.fc1.weight\", \"blocks.19.mlp.fc1.bias\", \"blocks.19.mlp.fc2.weight\", \"blocks.19.mlp.fc2.bias\", \"blocks.20.norm1.weight\", \"blocks.20.norm1.bias\", \"blocks.20.attn.qkv.weight\", \"blocks.20.attn.qkv.bias\", \"blocks.20.attn.proj.weight\", \"blocks.20.attn.proj.bias\", \"blocks.20.norm2.weight\", \"blocks.20.norm2.bias\", \"blocks.20.mlp.fc1.weight\", \"blocks.20.mlp.fc1.bias\", \"blocks.20.mlp.fc2.weight\", \"blocks.20.mlp.fc2.bias\", \"blocks.21.norm1.weight\", \"blocks.21.norm1.bias\", \"blocks.21.attn.qkv.weight\", \"blocks.21.attn.qkv.bias\", \"blocks.21.attn.proj.weight\", \"blocks.21.attn.proj.bias\", \"blocks.21.norm2.weight\", \"blocks.21.norm2.bias\", \"blocks.21.mlp.fc1.weight\", \"blocks.21.mlp.fc1.bias\", \"blocks.21.mlp.fc2.weight\", \"blocks.21.mlp.fc2.bias\", \"blocks.22.norm1.weight\", \"blocks.22.norm1.bias\", \"blocks.22.attn.qkv.weight\", \"blocks.22.attn.qkv.bias\", \"blocks.22.attn.proj.weight\", \"blocks.22.attn.proj.bias\", \"blocks.22.norm2.weight\", \"blocks.22.norm2.bias\", \"blocks.22.mlp.fc1.weight\", \"blocks.22.mlp.fc1.bias\", \"blocks.22.mlp.fc2.weight\", \"blocks.22.mlp.fc2.bias\", \"blocks.23.norm1.weight\", \"blocks.23.norm1.bias\", \"blocks.23.attn.qkv.weight\", \"blocks.23.attn.qkv.bias\", \"blocks.23.attn.proj.weight\", \"blocks.23.attn.proj.bias\", \"blocks.23.norm2.weight\", \"blocks.23.norm2.bias\", \"blocks.23.mlp.fc1.weight\", \"blocks.23.mlp.fc1.bias\", \"blocks.23.mlp.fc2.weight\", \"blocks.23.mlp.fc2.bias\", \"blocks.24.norm1.weight\", \"blocks.24.norm1.bias\", \"blocks.24.attn.qkv.weight\", \"blocks.24.attn.qkv.bias\", \"blocks.24.attn.proj.weight\", \"blocks.24.attn.proj.bias\", \"blocks.24.norm2.weight\", \"blocks.24.norm2.bias\", \"blocks.24.mlp.fc1.weight\", \"blocks.24.mlp.fc1.bias\", \"blocks.24.mlp.fc2.weight\", \"blocks.24.mlp.fc2.bias\", \"blocks.25.norm1.weight\", \"blocks.25.norm1.bias\", \"blocks.25.attn.qkv.weight\", \"blocks.25.attn.qkv.bias\", \"blocks.25.attn.proj.weight\", \"blocks.25.attn.proj.bias\", \"blocks.25.norm2.weight\", \"blocks.25.norm2.bias\", \"blocks.25.mlp.fc1.weight\", \"blocks.25.mlp.fc1.bias\", \"blocks.25.mlp.fc2.weight\", \"blocks.25.mlp.fc2.bias\", \"blocks.26.norm1.weight\", \"blocks.26.norm1.bias\", \"blocks.26.attn.qkv.weight\", \"blocks.26.attn.qkv.bias\", \"blocks.26.attn.proj.weight\", \"blocks.26.attn.proj.bias\", \"blocks.26.norm2.weight\", \"blocks.26.norm2.bias\", \"blocks.26.mlp.fc1.weight\", \"blocks.26.mlp.fc1.bias\", \"blocks.26.mlp.fc2.weight\", \"blocks.26.mlp.fc2.bias\", \"blocks.27.norm1.weight\", \"blocks.27.norm1.bias\", \"blocks.27.attn.qkv.weight\", \"blocks.27.attn.qkv.bias\", \"blocks.27.attn.proj.weight\", \"blocks.27.attn.proj.bias\", \"blocks.27.norm2.weight\", \"blocks.27.norm2.bias\", \"blocks.27.mlp.fc1.weight\", \"blocks.27.mlp.fc1.bias\", \"blocks.27.mlp.fc2.weight\", \"blocks.27.mlp.fc2.bias\", \"blocks.28.norm1.weight\", \"blocks.28.norm1.bias\", \"blocks.28.attn.qkv.weight\", \"blocks.28.attn.qkv.bias\", \"blocks.28.attn.proj.weight\", \"blocks.28.attn.proj.bias\", \"blocks.28.norm2.weight\", \"blocks.28.norm2.bias\", \"blocks.28.mlp.fc1.weight\", \"blocks.28.mlp.fc1.bias\", \"blocks.28.mlp.fc2.weight\", \"blocks.28.mlp.fc2.bias\", \"blocks.29.norm1.weight\", \"blocks.29.norm1.bias\", \"blocks.29.attn.qkv.weight\", \"blocks.29.attn.qkv.bias\", \"blocks.29.attn.proj.weight\", \"blocks.29.attn.proj.bias\", \"blocks.29.norm2.weight\", \"blocks.29.norm2.bias\", \"blocks.29.mlp.fc1.weight\", \"blocks.29.mlp.fc1.bias\", \"blocks.29.mlp.fc2.weight\", \"blocks.29.mlp.fc2.bias\", \"blocks.30.norm1.weight\", \"blocks.30.norm1.bias\", \"blocks.30.attn.qkv.weight\", \"blocks.30.attn.qkv.bias\", \"blocks.30.attn.proj.weight\", \"blocks.30.attn.proj.bias\", \"blocks.30.norm2.weight\", \"blocks.30.norm2.bias\", \"blocks.30.mlp.fc1.weight\", \"blocks.30.mlp.fc1.bias\", \"blocks.30.mlp.fc2.weight\", \"blocks.30.mlp.fc2.bias\", \"blocks.31.norm1.weight\", \"blocks.31.norm1.bias\", \"blocks.31.attn.qkv.weight\", \"blocks.31.attn.qkv.bias\", \"blocks.31.attn.proj.weight\", \"blocks.31.attn.proj.bias\", \"blocks.31.norm2.weight\", \"blocks.31.norm2.bias\", \"blocks.31.mlp.fc1.weight\", \"blocks.31.mlp.fc1.bias\", \"blocks.31.mlp.fc2.weight\", \"blocks.31.mlp.fc2.bias\", \"decoder_blocks.16.norm1.weight\", \"decoder_blocks.16.norm1.bias\", \"decoder_blocks.16.attn.qkv.weight\", \"decoder_blocks.16.attn.qkv.bias\", \"decoder_blocks.16.attn.proj.weight\", \"decoder_blocks.16.attn.proj.bias\", \"decoder_blocks.16.norm2.weight\", \"decoder_blocks.16.norm2.bias\", \"decoder_blocks.16.mlp.fc1.weight\", \"decoder_blocks.16.mlp.fc1.bias\", \"decoder_blocks.16.mlp.fc2.weight\", \"decoder_blocks.16.mlp.fc2.bias\", \"decoder_blocks.17.norm1.weight\", \"decoder_blocks.17.norm1.bias\", \"decoder_blocks.17.attn.qkv.weight\", \"decoder_blocks.17.attn.qkv.bias\", \"decoder_blocks.17.attn.proj.weight\", \"decoder_blocks.17.attn.proj.bias\", \"decoder_blocks.17.norm2.weight\", \"decoder_blocks.17.norm2.bias\", \"decoder_blocks.17.mlp.fc1.weight\", \"decoder_blocks.17.mlp.fc1.bias\", \"decoder_blocks.17.mlp.fc2.weight\", \"decoder_blocks.17.mlp.fc2.bias\", \"decoder_blocks.18.norm1.weight\", \"decoder_blocks.18.norm1.bias\", \"decoder_blocks.18.attn.qkv.weight\", \"decoder_blocks.18.attn.qkv.bias\", \"decoder_blocks.18.attn.proj.weight\", \"decoder_blocks.18.attn.proj.bias\", \"decoder_blocks.18.norm2.weight\", \"decoder_blocks.18.norm2.bias\", \"decoder_blocks.18.mlp.fc1.weight\", \"decoder_blocks.18.mlp.fc1.bias\", \"decoder_blocks.18.mlp.fc2.weight\", \"decoder_blocks.18.mlp.fc2.bias\", \"decoder_blocks.19.norm1.weight\", \"decoder_blocks.19.norm1.bias\", \"decoder_blocks.19.attn.qkv.weight\", \"decoder_blocks.19.attn.qkv.bias\", \"decoder_blocks.19.attn.proj.weight\", \"decoder_blocks.19.attn.proj.bias\", \"decoder_blocks.19.norm2.weight\", \"decoder_blocks.19.norm2.bias\", \"decoder_blocks.19.mlp.fc1.weight\", \"decoder_blocks.19.mlp.fc1.bias\", \"decoder_blocks.19.mlp.fc2.weight\", \"decoder_blocks.19.mlp.fc2.bias\", \"decoder_blocks.20.norm1.weight\", \"decoder_blocks.20.norm1.bias\", \"decoder_blocks.20.attn.qkv.weight\", \"decoder_blocks.20.attn.qkv.bias\", \"decoder_blocks.20.attn.proj.weight\", \"decoder_blocks.20.attn.proj.bias\", \"decoder_blocks.20.norm2.weight\", \"decoder_blocks.20.norm2.bias\", \"decoder_blocks.20.mlp.fc1.weight\", \"decoder_blocks.20.mlp.fc1.bias\", \"decoder_blocks.20.mlp.fc2.weight\", \"decoder_blocks.20.mlp.fc2.bias\", \"decoder_blocks.21.norm1.weight\", \"decoder_blocks.21.norm1.bias\", \"decoder_blocks.21.attn.qkv.weight\", \"decoder_blocks.21.attn.qkv.bias\", \"decoder_blocks.21.attn.proj.weight\", \"decoder_blocks.21.attn.proj.bias\", \"decoder_blocks.21.norm2.weight\", \"decoder_blocks.21.norm2.bias\", \"decoder_blocks.21.mlp.fc1.weight\", \"decoder_blocks.21.mlp.fc1.bias\", \"decoder_blocks.21.mlp.fc2.weight\", \"decoder_blocks.21.mlp.fc2.bias\", \"decoder_blocks.22.norm1.weight\", \"decoder_blocks.22.norm1.bias\", \"decoder_blocks.22.attn.qkv.weight\", \"decoder_blocks.22.attn.qkv.bias\", \"decoder_blocks.22.attn.proj.weight\", \"decoder_blocks.22.attn.proj.bias\", \"decoder_blocks.22.norm2.weight\", \"decoder_blocks.22.norm2.bias\", \"decoder_blocks.22.mlp.fc1.weight\", \"decoder_blocks.22.mlp.fc1.bias\", \"decoder_blocks.22.mlp.fc2.weight\", \"decoder_blocks.22.mlp.fc2.bias\", \"decoder_blocks.23.norm1.weight\", \"decoder_blocks.23.norm1.bias\", \"decoder_blocks.23.attn.qkv.weight\", \"decoder_blocks.23.attn.qkv.bias\", \"decoder_blocks.23.attn.proj.weight\", \"decoder_blocks.23.attn.proj.bias\", \"decoder_blocks.23.norm2.weight\", \"decoder_blocks.23.norm2.bias\", \"decoder_blocks.23.mlp.fc1.weight\", \"decoder_blocks.23.mlp.fc1.bias\", \"decoder_blocks.23.mlp.fc2.weight\", \"decoder_blocks.23.mlp.fc2.bias\", \"decoder_blocks.24.norm1.weight\", \"decoder_blocks.24.norm1.bias\", \"decoder_blocks.24.attn.qkv.weight\", \"decoder_blocks.24.attn.qkv.bias\", \"decoder_blocks.24.attn.proj.weight\", \"decoder_blocks.24.attn.proj.bias\", \"decoder_blocks.24.norm2.weight\", \"decoder_blocks.24.norm2.bias\", \"decoder_blocks.24.mlp.fc1.weight\", \"decoder_blocks.24.mlp.fc1.bias\", \"decoder_blocks.24.mlp.fc2.weight\", \"decoder_blocks.24.mlp.fc2.bias\", \"decoder_blocks.25.norm1.weight\", \"decoder_blocks.25.norm1.bias\", \"decoder_blocks.25.attn.qkv.weight\", \"decoder_blocks.25.attn.qkv.bias\", \"decoder_blocks.25.attn.proj.weight\", \"decoder_blocks.25.attn.proj.bias\", \"decoder_blocks.25.norm2.weight\", \"decoder_blocks.25.norm2.bias\", \"decoder_blocks.25.mlp.fc1.weight\", \"decoder_blocks.25.mlp.fc1.bias\", \"decoder_blocks.25.mlp.fc2.weight\", \"decoder_blocks.25.mlp.fc2.bias\", \"decoder_blocks.26.norm1.weight\", \"decoder_blocks.26.norm1.bias\", \"decoder_blocks.26.attn.qkv.weight\", \"decoder_blocks.26.attn.qkv.bias\", \"decoder_blocks.26.attn.proj.weight\", \"decoder_blocks.26.attn.proj.bias\", \"decoder_blocks.26.norm2.weight\", \"decoder_blocks.26.norm2.bias\", \"decoder_blocks.26.mlp.fc1.weight\", \"decoder_blocks.26.mlp.fc1.bias\", \"decoder_blocks.26.mlp.fc2.weight\", \"decoder_blocks.26.mlp.fc2.bias\", \"decoder_blocks.27.norm1.weight\", \"decoder_blocks.27.norm1.bias\", \"decoder_blocks.27.attn.qkv.weight\", \"decoder_blocks.27.attn.qkv.bias\", \"decoder_blocks.27.attn.proj.weight\", \"decoder_blocks.27.attn.proj.bias\", \"decoder_blocks.27.norm2.weight\", \"decoder_blocks.27.norm2.bias\", \"decoder_blocks.27.mlp.fc1.weight\", \"decoder_blocks.27.mlp.fc1.bias\", \"decoder_blocks.27.mlp.fc2.weight\", \"decoder_blocks.27.mlp.fc2.bias\", \"decoder_blocks.28.norm1.weight\", \"decoder_blocks.28.norm1.bias\", \"decoder_blocks.28.attn.qkv.weight\", \"decoder_blocks.28.attn.qkv.bias\", \"decoder_blocks.28.attn.proj.weight\", \"decoder_blocks.28.attn.proj.bias\", \"decoder_blocks.28.norm2.weight\", \"decoder_blocks.28.norm2.bias\", \"decoder_blocks.28.mlp.fc1.weight\", \"decoder_blocks.28.mlp.fc1.bias\", \"decoder_blocks.28.mlp.fc2.weight\", \"decoder_blocks.28.mlp.fc2.bias\", \"decoder_blocks.29.norm1.weight\", \"decoder_blocks.29.norm1.bias\", \"decoder_blocks.29.attn.qkv.weight\", \"decoder_blocks.29.attn.qkv.bias\", \"decoder_blocks.29.attn.proj.weight\", \"decoder_blocks.29.attn.proj.bias\", \"decoder_blocks.29.norm2.weight\", \"decoder_blocks.29.norm2.bias\", \"decoder_blocks.29.mlp.fc1.weight\", \"decoder_blocks.29.mlp.fc1.bias\", \"decoder_blocks.29.mlp.fc2.weight\", \"decoder_blocks.29.mlp.fc2.bias\", \"decoder_blocks.30.norm1.weight\", \"decoder_blocks.30.norm1.bias\", \"decoder_blocks.30.attn.qkv.weight\", \"decoder_blocks.30.attn.qkv.bias\", \"decoder_blocks.30.attn.proj.weight\", \"decoder_blocks.30.attn.proj.bias\", \"decoder_blocks.30.norm2.weight\", \"decoder_blocks.30.norm2.bias\", \"decoder_blocks.30.mlp.fc1.weight\", \"decoder_blocks.30.mlp.fc1.bias\", \"decoder_blocks.30.mlp.fc2.weight\", \"decoder_blocks.30.mlp.fc2.bias\", \"decoder_blocks.31.norm1.weight\", \"decoder_blocks.31.norm1.bias\", \"decoder_blocks.31.attn.qkv.weight\", \"decoder_blocks.31.attn.qkv.bias\", \"decoder_blocks.31.attn.proj.weight\", \"decoder_blocks.31.attn.proj.bias\", \"decoder_blocks.31.norm2.weight\", \"decoder_blocks.31.norm2.bias\", \"decoder_blocks.31.mlp.fc1.weight\", \"decoder_blocks.31.mlp.fc1.bias\", \"decoder_blocks.31.mlp.fc2.weight\", \"decoder_blocks.31.mlp.fc2.bias\". \n\tsize mismatch for patch_embed.tdcnn_model.expand_bn.weight: copying a param with shape torch.Size([128]) from checkpoint, the shape in current model is torch.Size([256]).\n\tsize mismatch for patch_embed.tdcnn_model.expand_bn.bias: copying a param with shape torch.Size([128]) from checkpoint, the shape in current model is torch.Size([256]).\n\tsize mismatch for patch_embed.tdcnn_model.expand_bn.running_mean: copying a param with shape torch.Size([128]) from checkpoint, the shape in current model is torch.Size([256]).\n\tsize mismatch for patch_embed.tdcnn_model.expand_bn.running_var: copying a param with shape torch.Size([128]) from checkpoint, the shape in current model is torch.Size([256]).\n\tsize mismatch for patch_embed.tdcnn_model.shrink.weight: copying a param with shape torch.Size([17920, 128, 1]) from checkpoint, the shape in current model is torch.Size([17920, 256, 1]).\n\tsize mismatch for patch_embed.tdcnn_model.expand_conv.weight: copying a param with shape torch.Size([128, 280, 3]) from checkpoint, the shape in current model is torch.Size([256, 280, 3]).\n\tsize mismatch for patch_embed.tdcnn_model.layers_conv.0.weight: copying a param with shape torch.Size([128, 128, 3]) from checkpoint, the shape in current model is torch.Size([256, 256, 3]).\n\tsize mismatch for patch_embed.tdcnn_model.layers_conv.1.weight: copying a param with shape torch.Size([128, 128, 1]) from checkpoint, the shape in current model is torch.Size([256, 256, 1]).\n\tsize mismatch for patch_embed.tdcnn_model.layers_conv.2.weight: copying a param with shape torch.Size([128, 128, 3]) from checkpoint, the shape in current model is torch.Size([256, 256, 3]).\n\tsize mismatch for patch_embed.tdcnn_model.layers_conv.3.weight: copying a param with shape torch.Size([128, 128, 1]) from checkpoint, the shape in current model is torch.Size([256, 256, 1]).\n\tsize mismatch for patch_embed.tdcnn_model.layers_bn.0.weight: copying a param with shape torch.Size([128]) from checkpoint, the shape in current model is torch.Size([256]).\n\tsize mismatch for patch_embed.tdcnn_model.layers_bn.0.bias: copying a param with shape torch.Size([128]) from checkpoint, the shape in current model is torch.Size([256]).\n\tsize mismatch for patch_embed.tdcnn_model.layers_bn.0.running_mean: copying a param with shape torch.Size([128]) from checkpoint, the shape in current model is torch.Size([256]).\n\tsize mismatch for patch_embed.tdcnn_model.layers_bn.0.running_var: copying a param with shape torch.Size([128]) from checkpoint, the shape in current model is torch.Size([256]).\n\tsize mismatch for patch_embed.tdcnn_model.layers_bn.1.weight: copying a param with shape torch.Size([128]) from checkpoint, the shape in current model is torch.Size([256]).\n\tsize mismatch for patch_embed.tdcnn_model.layers_bn.1.bias: copying a param with shape torch.Size([128]) from checkpoint, the shape in current model is torch.Size([256]).\n\tsize mismatch for patch_embed.tdcnn_model.layers_bn.1.running_mean: copying a param with shape torch.Size([128]) from checkpoint, the shape in current model is torch.Size([256]).\n\tsize mismatch for patch_embed.tdcnn_model.layers_bn.1.running_var: copying a param with shape torch.Size([128]) from checkpoint, the shape in current model is torch.Size([256]).\n\tsize mismatch for patch_embed.tdcnn_model.layers_bn.2.weight: copying a param with shape torch.Size([128]) from checkpoint, the shape in current model is torch.Size([256]).\n\tsize mismatch for patch_embed.tdcnn_model.layers_bn.2.bias: copying a param with shape torch.Size([128]) from checkpoint, the shape in current model is torch.Size([256]).\n\tsize mismatch for patch_embed.tdcnn_model.layers_bn.2.running_mean: copying a param with shape torch.Size([128]) from checkpoint, the shape in current model is torch.Size([256]).\n\tsize mismatch for patch_embed.tdcnn_model.layers_bn.2.running_var: copying a param with shape torch.Size([128]) from checkpoint, the shape in current model is torch.Size([256]).\n\tsize mismatch for patch_embed.tdcnn_model.layers_bn.3.weight: copying a param with shape torch.Size([128]) from checkpoint, the shape in current model is torch.Size([256]).\n\tsize mismatch for patch_embed.tdcnn_model.layers_bn.3.bias: copying a param with shape torch.Size([128]) from checkpoint, the shape in current model is torch.Size([256]).\n\tsize mismatch for patch_embed.tdcnn_model.layers_bn.3.running_mean: copying a param with shape torch.Size([128]) from checkpoint, the shape in current model is torch.Size([256]).\n\tsize mismatch for patch_embed.tdcnn_model.layers_bn.3.running_var: copying a param with shape torch.Size([128]) from checkpoint, the shape in current model is torch.Size([256])."
     ]
    }
   ],
   "source": [
    "model.load_state_dict(m['state_dict'])\n",
    "# model.eval()"
   ]
  },
  {
   "cell_type": "code",
   "execution_count": 217,
   "metadata": {},
   "outputs": [
    {
     "data": {
      "text/plain": "torch.int32"
     },
     "execution_count": 217,
     "metadata": {},
     "output_type": "execute_result"
    }
   ],
   "source": [
    "pose_sequence.dtype"
   ]
  },
  {
   "cell_type": "code",
   "execution_count": 219,
   "metadata": {},
   "outputs": [],
   "source": [
    "# from data.dataset import Move\n",
    "# transforms = [Move()]\n",
    "# for trans in transforms:\n",
    "#     pose_sequence = trans(pose_sequence)"
   ]
  },
  {
   "cell_type": "code",
   "execution_count": 220,
   "metadata": {
    "pycharm": {
     "name": "#%%\n"
    }
   },
   "outputs": [
    {
     "ename": "ValueError",
     "evalue": "not enough values to unpack (expected 7, got 3)",
     "output_type": "error",
     "traceback": [
      "\u001B[1;31m---------------------------------------------------------------------------\u001B[0m",
      "\u001B[1;31mValueError\u001B[0m                                Traceback (most recent call last)",
      "Cell \u001B[1;32mIn[220], line 6\u001B[0m\n\u001B[0;32m      3\u001B[0m pose_sequence \u001B[38;5;241m=\u001B[39m pose_sequence\u001B[38;5;241m.\u001B[39mfloat()\n\u001B[0;32m      4\u001B[0m \u001B[38;5;66;03m# loss, pred, mask = model.forward(pose_sequence)\u001B[39;00m\n\u001B[0;32m      5\u001B[0m \u001B[38;5;66;03m# loss, pred, mask = model(pose_sequence_mirror,0.01)\u001B[39;00m\n\u001B[1;32m----> 6\u001B[0m loss, pred, mask, min_x, diff_x, min_y, diff_y \u001B[38;5;241m=\u001B[39m model\u001B[38;5;241m.\u001B[39mforward(pose_sequence,\u001B[38;5;241m0.75\u001B[39m)\n\u001B[0;32m      8\u001B[0m pred \u001B[38;5;241m=\u001B[39m model\u001B[38;5;241m.\u001B[39munpatchify(pred, min_x, diff_x, min_y, diff_y)\u001B[38;5;241m.\u001B[39mdetach()\n",
      "\u001B[1;31mValueError\u001B[0m: not enough values to unpack (expected 7, got 3)"
     ]
    }
   ],
   "source": [
    "# infer\n",
    "model.float()\n",
    "pose_sequence = pose_sequence.float()\n",
    "# loss, pred, mask = model.forward(pose_sequence)\n",
    "# loss, pred, mask = model(pose_sequence_mirror,0.01)\n",
    "loss, pred, mask, min_x, diff_x, min_y, diff_y = model.forward(pose_sequence,0.75)\n",
    "\n",
    "pred = model.unpatchify(pred, min_x, diff_x, min_y, diff_y).detach()"
   ]
  },
  {
   "cell_type": "code",
   "execution_count": 206,
   "metadata": {},
   "outputs": [],
   "source": [
    "pred.shape\n",
    "pred_off = pred.clone()\n",
    "# pred_off = pose_sequence1.clone()\n",
    "# pose_sequence_off = pose_sequence_mirror.clone()\n",
    "pose_sequence_off = pose_sequence.clone()\n",
    "# offset = 150\n",
    "offset = 50\n",
    "for i in range(pred.shape[2]):\n",
    "    pred_off[:,:,i,0] -=offset\n",
    "    pose_sequence_off[:,:,i,0] += offset\n",
    "\n",
    "comb = torch.cat([pred_off, pose_sequence_off], dim=2)\n",
    "\n"
   ]
  },
  {
   "cell_type": "code",
   "execution_count": 207,
   "metadata": {},
   "outputs": [],
   "source": [
    "visualize_pose_sequence(comb,inflate_ratio=1.5, center=True, loops=0)"
   ]
  },
  {
   "cell_type": "code",
   "execution_count": null,
   "metadata": {},
   "outputs": [],
   "source": []
  },
  {
   "cell_type": "code",
   "execution_count": null,
   "metadata": {},
   "outputs": [],
   "source": []
  },
  {
   "cell_type": "code",
   "execution_count": null,
   "metadata": {},
   "outputs": [],
   "source": []
  },
  {
   "cell_type": "code",
   "execution_count": null,
   "metadata": {},
   "outputs": [],
   "source": []
  }
 ],
 "metadata": {
  "kernelspec": {
   "display_name": "Python 3 (ipykernel)",
   "language": "python",
   "name": "python3"
  },
  "language_info": {
   "codemirror_mode": {
    "name": "ipython",
    "version": 3
   },
   "file_extension": ".py",
   "mimetype": "text/x-python",
   "name": "python",
   "nbconvert_exporter": "python",
   "pygments_lexer": "ipython3",
   "version": "3.9.5"
  }
 },
 "nbformat": 4,
 "nbformat_minor": 1
}